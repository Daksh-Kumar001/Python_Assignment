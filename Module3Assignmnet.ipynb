{
  "nbformat": 4,
  "nbformat_minor": 0,
  "metadata": {
    "colab": {
      "provenance": []
    },
    "kernelspec": {
      "name": "python3",
      "display_name": "Python 3"
    },
    "language_info": {
      "name": "python"
    }
  },
  "cells": [
    {
      "cell_type": "code",
      "execution_count": null,
      "metadata": {
        "id": "EOs9QRn9oB3c"
      },
      "outputs": [],
      "source": [
        "# # QUESTION 1 - Explain the key features of Python that make it a popular choice for programming?\n",
        "\n",
        "# ANSWER- Here are some of the key features of Python that makes it a popular choice for programming.\n",
        "\n",
        "# 1) Python is easy to read and learn, its syntax is very clear and simple which makes it easy to learn.\n",
        "# 2) Python has an extensive standard library that provides tools suited to many tasks like regular expressions, web services etc.\n",
        "# 3) Python is available on multiple operating systems, making it portable./\n",
        "# 4) Python manages memory automatically, and you don't need to declare variable types."
      ]
    },
    {
      "cell_type": "code",
      "source": [
        "# QUESTION 2 - Describe the role of predefined keywords in Python and provide examples of how they are used in a\n",
        "# program?\n",
        "\n",
        "# #ANSWER- Python has reserved words known as Keywords that have special meanings and cannot be used as variable names. Examples Include:\n",
        "\n",
        "#    -if,else: used for conditional staement\n",
        "\n",
        "#       if x > 5 :\n",
        "#         print(\"x is greater than 5\")\n",
        "#       else:\n",
        "#         print(\"x is less than or equal to 5\")\n",
        "\n",
        "#   - for, while;: used for loops.\n",
        "\n",
        "#     for i in range(5):\n",
        "#       print(i)\n",
        "\n",
        "#   - def: used to define a function.\n",
        "\n",
        "#     def my_function():\n",
        "#       return \"hello!\"\n",
        "\n",
        "#   - class:nused to define a class.\n",
        "\n",
        "#     class MyClass:\n",
        "#       pass"
      ],
      "metadata": {
        "id": "hTVQBL9doTzX"
      },
      "execution_count": null,
      "outputs": []
    },
    {
      "cell_type": "code",
      "source": [
        " # QUESTION 3 - Compare and contrast mutable and immutable objects in Python with examples.\n",
        "\n",
        "# #ANSWER-MUTABLE OBJECTS: Cannot be changed after creation.Examples include lists, dictionaries, and sets.\n",
        "\n",
        "#   my_list = [1,2,3]\n",
        "#   my_list.append(4)   # The lsit is modified\n",
        "\n",
        "\n",
        "# - IMMUTABLE OBJECTS: Cannot be changed after creation. Examples include strings, tuples,and integers.\n",
        "\n",
        "#    my_tuple = (1,2,3)\n",
        "#   #my_tuple[0] = 4 #This would raise an error as tuple are immutable"
      ],
      "metadata": {
        "id": "Zl8J2TXWoWjE"
      },
      "execution_count": null,
      "outputs": []
    },
    {
      "cell_type": "code",
      "source": [
        "#   QUESTION 4 - Discuss the different types of operators in Python and provide examples of how they are used.\n",
        "\n",
        "#   #ANSWER- There are some of the types of operators in python\n",
        "\n",
        "#   - arithmetic operators:- +,-,*,/,**,//,%\n",
        "#   eg.   result = 5 + 3 #8\n",
        "\n",
        "#   -Comparison operators:- ==,!=,<,>,<=,>=\n",
        "#   eg.   5 > 3\n",
        "#     print(true)\n",
        "\n",
        "#   - Logical operators:- and,or,not\n",
        "#   eg.   if true and false:\n",
        "#   print(\"This won't print\")\n",
        "\n",
        "#   - Assignment operators: =,+=,-=,*=,/=\n",
        "#   eg.   x = 5\n",
        "#   x += 2  # x becomes 7\n",
        "\n",
        "#   -Bitwise operators: &,|,^,~,<<,>>\n",
        "#     eg.   5 & 3   # Bitwise AND\n",
        "\n",
        "#   - Membership operators: in, not in\n",
        "#   eg.   if 'a'in 'apple':\n",
        "#     print(true)"
      ],
      "metadata": {
        "id": "oTPE4NcCoWop"
      },
      "execution_count": null,
      "outputs": []
    },
    {
      "cell_type": "code",
      "source": [
        "# QUESTION 5 - Explain the concept of type casting in Python with examples.\n",
        "\n",
        "#   #ANSWER- Type casting in Python is the process of converting one data type to another. Examples include :\n",
        "\n",
        "#   -IMPLICIT CASTING:- Python automatically converts a value to the correct type.\n",
        "\n",
        "#   x = 5   #int\n",
        "#   y= 2.5  #float\n",
        "# result = x + y  # Result will be float (7.5)\n",
        "\n",
        "#   -EXPLICIT CASTING:- Done manually by the programmer\n",
        "\n",
        "# x = \"5\"\n",
        "# y = int(x)  # Convert string to integer."
      ],
      "metadata": {
        "id": "lqj9gD-4oW1D"
      },
      "execution_count": null,
      "outputs": []
    },
    {
      "cell_type": "code",
      "source": [
        "# QUESTION 6 -  How do conditional statements work in Python? Illustrate with examples.\n",
        "\n",
        "# # ANSWER- Conditional statements in python allows for decision-making in code:\n",
        "\n",
        "#   - if statement:- Executes a block of code if a condition is true\n",
        "\n",
        "#   if x > 10:\n",
        "#     print(\"x is greater than 10\")\n",
        "\n",
        "#   - if else statement:- Executes one block of code if the condition is true, and another\n",
        "#   if it is false.\n",
        "\n",
        "#   if x > 10:\n",
        "#     print(\"x is greater than 10\")\n",
        "#     else:\n",
        "#       print(\"x is 10 or less\")\n",
        "\n",
        "#   - elif statement:- Checks multiple conditions.\n",
        "\n",
        "#   if x > 10:\n",
        "#     print(\"x is greater than 10\")\n",
        "#      elif:\n",
        "#       print(\"x is greater thanc5 but less than or equal to 10\")\n",
        "#        else:\n",
        "#       print(\"x is 5 or less\")"
      ],
      "metadata": {
        "id": "R7lzkFZ5oW9d"
      },
      "execution_count": null,
      "outputs": []
    },
    {
      "cell_type": "code",
      "source": [
        "# QUESTION 7 - Describe the different types of loops in Python and their use cases with examples.\n",
        "\n",
        "# # ANSWER- for loop: iterates over a sequence (eg., list, string, range)\n",
        "\n",
        "#     for i in range(5):\n",
        "#       print()\n",
        "#    # Prints numbers 0 to 4\n",
        "\n",
        "#   - while loop:- Repeats as long as a condition is true.\n",
        "\n",
        "#     i = 0\n",
        "#     while i < 5\n",
        "#       print(i)\n",
        "#       i +=\n",
        "#    # Prints numbers 0 to 4\n",
        "\n",
        "#   - Breaks:- Exits the loop prematurely\n",
        "\n",
        "\n",
        "#     for i in range(5):\n",
        "#         if i == 3:\n",
        "#           break\n",
        "\n",
        "#   - Continue:- Skips the rest of the loop for the current iteration and moves to the next\n",
        "\n",
        "#     for i in range(5):\n",
        "#        if i == 3:\n",
        "#         continue\n",
        "#         print(i)\n",
        "#     # Prints 0, 1, 2, 4"
      ],
      "metadata": {
        "id": "zevLnsuho1kh"
      },
      "execution_count": null,
      "outputs": []
    },
    {
      "cell_type": "code",
      "source": [],
      "metadata": {
        "id": "ibBbTplAo1v9"
      },
      "execution_count": null,
      "outputs": []
    }
  ]
}